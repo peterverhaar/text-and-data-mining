{
 "cells": [
  {
   "cell_type": "markdown",
   "metadata": {},
   "source": [
    "# Exercises"
   ]
  },
  {
   "cell_type": "markdown",
   "metadata": {},
   "source": [
    "## Exercise 3.1.\n",
    "\n",
    "Answer the following questions about this text file named \"ARoomWithAView.txt\", which you can find in the folder named 'Corpus'. \n",
    "\n",
    "* How many characters are there in the novel?\n",
    "* How many words does the novel contain?\n",
    "* What are the 25 most frequent words if we exclude stop words?\n",
    "* How many times does the novel contain the token 'Italy'?"
   ]
  },
  {
   "cell_type": "code",
   "execution_count": null,
   "metadata": {},
   "outputs": [],
   "source": [
    "import os\n",
    "import tdmh\n",
    "from nltk import word_tokenize\n",
    "from nltk.corpus import stopwords\n",
    "\n",
    "\n",
    "# This code 'moves down' in the folder system\n",
    "# because the folder 'Corpus' is on the same level as 'Solutions'\n",
    "path_parent = os.path.dirname(os.getcwd())\n",
    "path = os.path.join( path_parent , 'Corpus' , 'ARoomWithaView.txt')\n",
    "\n",
    "fh = open( path , encoding = 'utf-8' )\n",
    "full_text = fh.read()\n",
    "\n",
    "stopwords = stopwords.words('english')\n",
    "\n",
    "nr_char = len(full_text)\n",
    "\n",
    "freq = dict()\n",
    "\n",
    "words = word_tokenize(full_text)\n",
    "words = remove_punctuation(words)\n",
    "\n",
    "for w in words:\n",
    "    w = w.lower()\n",
    "    if w not in stopwords:\n",
    "        freq[w] = freq.get(w,0) + 1\n",
    "\n",
    "nr_words = len(freq)\n",
    "print( f'The novel contains {nr_words} words.')\n",
    "\n",
    "search_term = 'italy'\n",
    "print( f'\\nThe word \"{search_term}\" occurs { freq[search_term] } times.')\n",
    "\n",
    "\n",
    "count = 0 \n",
    "max = 25\n",
    "\n",
    "print( f'\\n{max} most frequent words:' )\n",
    "\n",
    "for f in sortedByValue( freq , ascending = False ) :\n",
    "    count += 1\n",
    "    print( f'{f} -> {freq[f]}' )\n",
    "    if max == count:\n",
    "        break\n",
    "    \n"
   ]
  },
  {
   "cell_type": "markdown",
   "metadata": {},
   "source": [
    "## Exercise 3.2.\n",
    "\n",
    "Can you create a line chart that visualised the frequencies of the 25 most common words in *A Room with a View*? For this exercise, you can reuse some of the results of exercise 3.1.  "
   ]
  },
  {
   "cell_type": "code",
   "execution_count": null,
   "metadata": {},
   "outputs": [],
   "source": [
    "## We first create a new version of the freq dictionary in which \n",
    "# the values are sorted in a descending order\n",
    "\n",
    "\n",
    "freq_sorted = sortedByValue( freq , ascending = False ) \n",
    "\n",
    "\n",
    "## We can use the keys() method to make a specific `dict_keys` object\n",
    "# which lists all the keys. There is a similar methods\n",
    "# that we can use to obtain the values. \n",
    "\n",
    "words = freq_sorted.keys()\n",
    "words_freq = freq_sorted.values()\n",
    "\n",
    "# The 'dict_keys' and 'dict_values' objects are then converted \n",
    "# into regular Python lists. Such lists can be 'filtered' using the \n",
    "# square brackets. We can select the first 25 elements only, by \n",
    "# mentioning the number after the colon (':')\n",
    "\n",
    "words = list(words)[:max]\n",
    "words_freq = list(words_freq)[:max]\n",
    "\n",
    "%matplotlib inline\n",
    "import matplotlib.pyplot as plt\n",
    "\n",
    "plt.style.use('seaborn-whitegrid')\n",
    "\n",
    "fig = plt.figure( figsize=( 12 , 6 ) )\n",
    "ax = plt.axes()\n",
    "\n",
    "ax.plot( words  , words_freq  , color = '#930d08' , linestyle = 'solid')\n",
    "\n",
    "ax.set_xlabel('Word')\n",
    "ax.set_ylabel('Frequencies')\n",
    "\n",
    "plt.xticks(fontsize= 16 )\n",
    "plt.yticks(fontsize= 16 )\n",
    "\n",
    "plt.xticks(rotation=80)\n",
    "\n",
    "ax.set_title( 'Word frequencies in \"A Room with a View\"' , fontsize=20)\n",
    "plt.show()\n"
   ]
  },
  {
   "cell_type": "code",
   "execution_count": null,
   "metadata": {},
   "outputs": [],
   "source": []
  }
 ],
 "metadata": {
  "kernelspec": {
   "display_name": "Python 3 (ipykernel)",
   "language": "python",
   "name": "python3"
  },
  "language_info": {
   "codemirror_mode": {
    "name": "ipython",
    "version": 3
   },
   "file_extension": ".py",
   "mimetype": "text/x-python",
   "name": "python",
   "nbconvert_exporter": "python",
   "pygments_lexer": "ipython3",
   "version": "3.7.9"
  }
 },
 "nbformat": 4,
 "nbformat_minor": 2
}
