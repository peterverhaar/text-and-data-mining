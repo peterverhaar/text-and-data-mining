{
 "cells": [
  {
   "cell_type": "markdown",
   "metadata": {},
   "source": [
    "# Introduction"
   ]
  },
  {
   "cell_type": "markdown",
   "metadata": {},
   "source": [
    "\n"
   ]
  },
  {
   "cell_type": "markdown",
   "metadata": {},
   "source": [
    "## Acquiring the texts for your corpus\n",
    "\n",
    "Projects in field of Text and Data Mining (TDM) typically start with the preparation of a corpus. Machine-readable texts can be downloaded from a wide range of sources:\n",
    "\n",
    "* [Project Gutenberg](https://www.gutenberg.org/)\n",
    "* [Distant Reading E-COST](https://github.com/distantreading/distantreading.github.io)\n",
    "* [DBNL](https://dbnl.nl/)\n",
    "* [Text Creation Partnership](https://github.com/textcreationpartnership/Texts)\n",
    "* [WikiData](https://www.wikidata.org/)\n",
    "* [Folger Shakespeare Digital Library](https://shakespeare.folger.edu/download/)\n",
    "* [Oxford Text Archive](https://ota.bodleian.ox.ac.uk/repository/xmlui/)\n",
    "* [OpenSubtitles](opensubtitles.com)\n",
    "* [TextGrid Repository](https://textgridrep.org/)\n",
    "* [Internet Archive](https://archive.org/details/opensource)\n",
    "* [Open Library](https://openlibrary.org/)\n",
    "* [Delpher](https://www.delpher.nl/)\n",
    "* [Archive of NRC (Dutch Newspaper)](https://www.nrc.nl/index/archief/)\n",
    "* [Digital Library of the Netherlands](https://www.dbnl.org/)\n"
   ]
  },
  {
   "cell_type": "markdown",
   "metadata": {},
   "source": [
    "## Downloading a text from Project Gutenberg\n",
    "\n",
    "[Project Gutenberg](http://gutenberg.org), for example, is an online repository containing tens of thousands of machine readable texts in a variety of formats. \n",
    "\n",
    "For TDM projects, the  plain TXT format , with characters encoded accordingh to UTF-8 encoding, is usually the most convenient format.  If you know the URL of a specific TXT file on *Project Gutenberg*, you can download this text using the `requests` library. \n",
    "\n",
    "The code below downloads the file with the url [https://www.gutenberg.org/files/4300/4300-0.txt](https://www.gutenberg.org/files/4300/4300-0.txt). This file contains the full text of James Joyces's novel *Ulysses*. "
   ]
  },
  {
   "cell_type": "code",
   "execution_count": null,
   "metadata": {},
   "outputs": [],
   "source": [
    "import requests\n",
    "\n",
    "text_url = 'https://www.gutenberg.org/files/4300/4300-0.txt'\n",
    "\n",
    "\n",
    "response = requests.get( text_url )\n",
    "\n",
    "if response:\n",
    "    response.encoding = 'utf-8'\n",
    "    full_text = response.text"
   ]
  },
  {
   "cell_type": "markdown",
   "metadata": {},
   "source": [
    "If you have managed to run this code successfully, the string named `full_text` should contain the full contents of the file that was downloaded. We can easily calculate the total number of characters in the text file by making use of `len()`. |"
   ]
  },
  {
   "cell_type": "code",
   "execution_count": null,
   "metadata": {},
   "outputs": [],
   "source": [
    "print(len(full_text))"
   ]
  },
  {
   "cell_type": "markdown",
   "metadata": {},
   "source": [
    "When you download text files from Project Gutenberg, it is important to bear in mind that the files all contain a 'boilerplate', before and after the actual full text. These headers and footers contain some legal texts, and often some information about the digitisation process. \n",
    "\n",
    "The Gutenberg header and footer obviously needs to be removed from the file before you start to analyse the text. \n",
    "\n",
    "The function `remove_pg_boilerplate()`, defined below, removes the boilerplate, based on the string that are used at the end of the header ('START OF THE PROJECT GUTENBURG EBOOK') and at the beginning of the footer ('END OF THE PROJECT GUTENBURG EBOOK'). The function selects all the text in between these two strings. "
   ]
  },
  {
   "cell_type": "code",
   "execution_count": null,
   "metadata": {},
   "outputs": [],
   "source": [
    "import re \n",
    "\n",
    "def remove_pg_boilerplate(complete_file):\n",
    "    \n",
    "    lines = re.split( r'\\n' , complete_file )\n",
    "    read_mode = 0 \n",
    "    full_text = ''\n",
    "    \n",
    "    for line in lines:\n",
    "        #print(line)\n",
    "        if read_mode == 1:\n",
    "            full_text += line + '\\n'\n",
    "            \n",
    "        if re.search( r'\\*{3,}\\s+START\\s+OF\\s+TH(E|IS)\\s+PROJECT\\s+GUTENBERG\\s+EBOOK' ,  str(line) , re.IGNORECASE ):\n",
    "            read_mode = 1\n",
    "        if re.search( r'\\*{3,}\\s+END\\s+OF\\s+TH(E|IS)\\s+PROJECT\\s+GUTENBERG\\s+EBOOK' ,  str(line) , re.IGNORECASE ):\n",
    "            read_mode = 0\n",
    "            \n",
    "    full_text = full_text.strip()\n",
    "    if re.search( r'^Produced by' , full_text , re.IGNORECASE ):\n",
    "        full_text = full_text[ full_text.index('\\n') : len(full_text) ]\n",
    "    return full_text"
   ]
  },
  {
   "cell_type": "markdown",
   "metadata": {},
   "source": [
    "In the code below, the result of the `remove_pg_boilerplate()` function is asigned to a varibable named `cleaned_text`. "
   ]
  },
  {
   "cell_type": "code",
   "execution_count": null,
   "metadata": {},
   "outputs": [],
   "source": [
    "cleaned_text = remove_pg_boilerplate(full_text) "
   ]
  },
  {
   "cell_type": "markdown",
   "metadata": {},
   "source": [
    "The text can be aved on your computer using the `open()` function in the write ('`w`') mode. "
   ]
  },
  {
   "cell_type": "code",
   "execution_count": null,
   "metadata": {},
   "outputs": [],
   "source": [
    "with open( 'ulysses.txt' , 'w' , encoding = 'utf-8') as fh:\n",
    "    fh.write( cleaned_text )"
   ]
  },
  {
   "cell_type": "markdown",
   "metadata": {},
   "source": [
    "The code below defines a dictionary containing both the URLs and the titles of a number of books available at Project Gutenberg. The files that are listed in this dictionary can all be downloaded using the steps that have been discussed. "
   ]
  },
  {
   "cell_type": "code",
   "execution_count": null,
   "metadata": {},
   "outputs": [],
   "source": [
    "import requests\n",
    "import re\n",
    "\n",
    "gutenberg_files = {\n",
    "    'http://www.gutenberg.org/files/158/158-0.txt':'Emma',\n",
    "    'http://www.gutenberg.org/files/161/161-0.txt':'Sense and Sensibility',\n",
    "    'http://www.gutenberg.org/files/1342/1342-0.txt':'Pride and Prejudice'\n",
    "}\n",
    "\n",
    "for url in gutenberg_files:\n",
    "    print(\"Downloading \" + gutenberg_files[url] + \" ...\")\n",
    "    response = requests.get(url)\n",
    "    title = re.sub( r'\\s+' , '_' ,  gutenberg_files[url] )\n",
    "\n",
    "    if response:\n",
    "        response.encoding = 'utf-8'\n",
    "        full_text = remove_pg_boilerplate(response.text)           \n",
    "        out = open( title , 'w' , encoding = 'utf-8')\n",
    "        out.write( full_text.strip() )\n",
    "        out.close()\n",
    "\n",
    "print('\\nDone!')    "
   ]
  },
  {
   "cell_type": "markdown",
   "metadata": {},
   "source": [
    "## Extract text from PDF files\n",
    "\n",
    "The notebooks written for this tutorial assume that texts are stored as TXT files with the characters encoded as UTF-8. If you have downloaded texts in other formats, you need to convert these text into TXT first. \n",
    "\n",
    "There are a number of packages that you can use to convert PDF files, into TXT. One of these is `PyPDF2`.\n",
    "\n",
    "This library is not part of the Anaconda distribution of Python, so it needs to be installed before you can use it. "
   ]
  },
  {
   "cell_type": "code",
   "execution_count": null,
   "metadata": {},
   "outputs": [],
   "source": [
    "import sys\n",
    "!pip install PyPDF2"
   ]
  },
  {
   "cell_type": "markdown",
   "metadata": {},
   "source": [
    "Using `PyPDF2`, you can create a `pdfReader` object, containing a method named `extractText()` which can convert pages in PDF files into plain text files. \n",
    "\n",
    "Succes cannot be guaranteed, however. If a page in the PDF contains multiple columns, some of the lines may get mixed up. If the file uses a character encoding system other than UTF-8, there can also be some isues with the text of the file. The text that is created by the script will probably need to be edited manually, unfortunately. "
   ]
  },
  {
   "cell_type": "code",
   "execution_count": null,
   "metadata": {},
   "outputs": [],
   "source": [
    "import PyPDF2  \n",
    "import re\n",
    "\n",
    "pdf_url = 'https://scholarlypublications.universiteitleiden.nl/access/item%3A2729408/view'\n",
    "\n",
    "response = requests.get(pdf_url)\n",
    "if response:\n",
    "    out = open('downloaded.pdf' , 'wb')\n",
    "    out.write(response.content)\n",
    "    out.close()\n",
    "\n",
    "\n",
    "print( f'Reading {file} ...')\n",
    "    \n",
    "pdf_obj = open( file , 'rb')\n",
    "\n",
    "filename = file[  : file.rindex('.') ] + '.txt'    \n",
    "out = open( filename , 'w' , encoding = 'utf-8' )\n",
    "\n",
    "pdfReader = PyPDF2.PdfFileReader(pdf_obj)  \n",
    "\n",
    "print( f'The PDF file has {pdfReader.numPages} pages.\\n' )  \n",
    "\n",
    "for i in range(0,pdfReader.numPages):\n",
    "    page_obj = pdfReader.getPage(i)  \n",
    "\n",
    "    txt = page_obj.extractText()\n",
    "    txt = re.sub('\\n\\n' , '\\n' , txt)\n",
    "\n",
    "    out.write(txt)  \n",
    "\n",
    "\n",
    "pdf_obj.close()\n",
    "out.close"
   ]
  },
  {
   "cell_type": "markdown",
   "metadata": {},
   "source": [
    "# Exercises\n",
    "\n",
    "## Exercise 1.1\n",
    "\n",
    "1. Download all the text files that are listed in the following dictionary. \n",
    "\n",
    "`\n",
    "    gutenberg_files = {\n",
    "    'https://www.gutenberg.org/files/98/98-0.txt' :\n",
    "        'A Tale of Two Cities',\n",
    "    'https://www.gutenberg.org/files/580/580-0.txt':\n",
    "        'The Pickwick Papers'\n",
    "   }\n",
    "`\n",
    "\n",
    "Save these files in a folder named 'Texts'. In Python, you can make new folders using the `os` package, as follows:\n",
    "\n",
    "`\n",
    "os.mkdir('Texts')\n",
    "`\n",
    "\n",
    "\n",
    "\n",
    "\n",
    "\n",
    "\n"
   ]
  },
  {
   "cell_type": "code",
   "execution_count": null,
   "metadata": {},
   "outputs": [],
   "source": [
    "import os\n",
    "\n",
    "gutenberg_files = {\n",
    "    'https://www.gutenberg.org/files/98/98-0.txt' :\n",
    "        'A Tale of Two Cities',\n",
    "    'https://www.gutenberg.org/files/580/580-0.txt':\n",
    "        'The Pickwick Papers'\n",
    "   }\n",
    "\n",
    "if not os.path.exists('Texts'): \n",
    "    os.mkdir('Texts')"
   ]
  },
  {
   "cell_type": "markdown",
   "metadata": {},
   "source": [
    "## Exercise 1.2.\n",
    "\n",
    "Potentially, you can acquire texts using Web Scraping. \n",
    "\n",
    "The webpage below offers access to the complete work of H.P. Lovecraft. \n",
    "http://www.hplovecraft.com/writings/texts/\n",
    "\n",
    "Can you write code in Python to download all the texts that are listed on this page?  "
   ]
  },
  {
   "cell_type": "code",
   "execution_count": null,
   "metadata": {},
   "outputs": [],
   "source": []
  }
 ],
 "metadata": {
  "kernelspec": {
   "display_name": "Python 3 (ipykernel)",
   "language": "python",
   "name": "python3"
  },
  "language_info": {
   "codemirror_mode": {
    "name": "ipython",
    "version": 3
   },
   "file_extension": ".py",
   "mimetype": "text/x-python",
   "name": "python",
   "nbconvert_exporter": "python",
   "pygments_lexer": "ipython3",
   "version": "3.7.9"
  }
 },
 "nbformat": 4,
 "nbformat_minor": 2
}
