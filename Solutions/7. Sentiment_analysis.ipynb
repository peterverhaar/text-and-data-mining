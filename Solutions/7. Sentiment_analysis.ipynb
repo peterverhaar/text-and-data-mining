{
 "cells": [
  {
   "cell_type": "markdown",
   "metadata": {},
   "source": [
    "# Exercises\n",
    "\n",
    "## Exercise 7.1\n",
    "\n",
    "Use the code below to download a file named 'ulysses_reviews.txt', available at [edu.nl/fyf8v](edu.nl/fyf8v)\n",
    "\n",
    "This file contains the full text of a number of reviews of James Joyce's novel *Ulysses* which were posted on the [goodReads](https://www.goodreads.com/book/show/338798.Ulysses) social reading platform. \n",
    "\n",
    "Can you select all the positive words from these reviews? Can you also select all the words with a negative connotation?\n",
    "Is the number of positive words higher than the number of than negative words?\n",
    "\n",
    "You can the steps below:\n",
    "\n",
    "1. Create two lists, named `positive_words` and `negative_words`.\n",
    "2. Tokenise the text file, and calculate the score for positivity and the score for negativity for each of these words. \n",
    "3. If the posiitivity score is higher than 0.75, append the word to the list named `positive_words`. If the negativitiy score is higher than 0.75, append the word to `negative_words`.\n",
    "4. Finally, you can subtract the length of the list `negative_words` from the length of the list `positive_words`"
   ]
  },
  {
   "cell_type": "code",
   "execution_count": 13,
   "metadata": {},
   "outputs": [],
   "source": [
    "import requests\n",
    "\n",
    "response = requests.get('http://edu.nl/fyf8v')\n",
    "if response:\n",
    "    response.encoding = 'utf-8'\n",
    "    with open( 'ulysses_reviews.txt' , 'w' , encoding = 'utf-8') as out:\n",
    "        out.write(response.text)\n",
    "    "
   ]
  },
  {
   "cell_type": "code",
   "execution_count": 14,
   "metadata": {},
   "outputs": [
    {
     "name": "stdout",
     "output_type": "stream",
     "text": [
      "1362\n",
      "825\n"
     ]
    }
   ],
   "source": [
    "from nltk import word_tokenize\n",
    "reviews = open( 'ulysses_reviews.txt' , encoding = 'utf-8')\n",
    "\n",
    "positive_words = []\n",
    "negative_words = []\n",
    "\n",
    "for line in reviews:\n",
    "    words = word_tokenize(line)\n",
    "    for word in words:\n",
    "        scores = ana.polarity_scores(word)\n",
    "        if scores[\"pos\"] > 0.75:\n",
    "            positive_words.append(word)\n",
    "        elif scores[\"neg\"] > 0.75:\n",
    "            negative_words.append(word)\n",
    "        \n",
    "#print( positive_words) \n",
    "#print( negative_words) \n",
    "\n",
    "print( len(positive_words) )\n",
    "print( len(negative_words) )\n"
   ]
  },
  {
   "cell_type": "markdown",
   "metadata": {},
   "source": [
    "## Exercise 7.2\n",
    "\n",
    "What is the most negative sentence in these reviews of *Ulysses*? What is the most positive sentence? \n",
    "\n",
    "Try to implement the following steps:\n",
    "    \n",
    "1. Create a dictionary named `sent_scores` which can save the scores. In this dictionary, you can use sentences as keys, and the compound scores as values.    \n",
    "1. Navigate across all the lines in the file. Each line of the file is the full text of single review. \n",
    "2. Tokenisise the reviews into sentences.\n",
    "4. Navigate across all the sentences in these reviews and save the compound scores for these sentences in the dictionary `sent_scores`.\n",
    "5. Sort the dictionary named `sent_scores` in a descending order, and print the first few items it contain. The postive sentences will be shown at the top of the list. To see the negative sentence, you need to sort the dictionary in a descending order. \n",
    "\n",
    "Unfortunately, there is no standard function in Python that you can use to sort a dictionary by its values. This specific task can be performed using the function `sortedByValue()`, defined below. This function can opionally be used with a parameter named `ascending`. If the value of this parameter is `False`, the values will be sorted in a descending order. "
   ]
  },
  {
   "cell_type": "code",
   "execution_count": 15,
   "metadata": {},
   "outputs": [],
   "source": [
    "def sortedByValue( dict , ascending = True ):\n",
    "    if ascending: \n",
    "        return {k: v for k, v in sorted(dict.items(), key=lambda item: item[1])}\n",
    "    else:\n",
    "        return {k: v for k, v in reversed( sorted(dict.items(), key=lambda item: item[1]))}\n"
   ]
  },
  {
   "cell_type": "code",
   "execution_count": 16,
   "metadata": {},
   "outputs": [
    {
     "name": "stdout",
     "output_type": "stream",
     "text": [
      "\n",
      "Postive sentences\n",
      "\n",
      "Yes it is the greatest and yes you should read it and yes each word will blossom in your mind and Yes will I give this book a 5/5 and yes I said yes I will Yes. [0.9686]\n",
      "There were moments that I was in love with the book, believing this was the greatest novel I had ever read, I was convinced of Joyce’s brilliance and inspired by his genius. [0.9661]\n",
      "I still think, though, that it is the marriage of a great storyline and beautiful prose that creates a true masterpiece. [0.9517]\n",
      "This day, dubbed Bloomsday, is celebrated with increasing popularity in modern times, which is a testament to the lasting greatness of the novel (and to the desire to drink and be merry of all people). [0.936]\n",
      "Love, love, love, baby. [0.9274]\n",
      "Homer‘s Odysseus is a great warrior king who goes from triumph to triumph for more than a decade, conquering monsters, other heroes and gods. [0.9274]\n",
      "If you prefer exciting, stimulating, rewarding reading experiences, Ulysses might be the perfect book for you. [0.9217]\n",
      "But, there is great reward that awaits your patience. [0.9209]\n",
      "Loves loves to fucking love loveWhat a classic line. [0.9168]\n",
      "Upon reflecting back after completion, only then did I realize that this truly is one of the greatest books ever written and I have come to love it. [0.9149]\n",
      "\n",
      "Negative sentences\n",
      "\n",
      "I imagined grim faces of men enduring hard times, the bitter stink of stale beer in old pubs, a depressing general decay and death. [-0.9571]\n",
      "Not lost as engrossed, but lost in the sense that I had no idea where the hell I was in this labyrinth of writing and that’s before I lost my page. [-0.9417]\n",
      "I found my short interaction with Ulysees to be so boring, so completely confusing, so brain-numbing (in the worst possible way) that I was forced to abandon it. [-0.9378]\n",
      "I hated hated hated this book. [-0.9274]\n",
      "I was so terribly bored with large parts of the novel, frustrated, agonised and, on one occasion, actually sent to sleep. [-0.908]\n",
      "I would say to that, you’re just a bad torturer, and a bad reader. [-0.8834]\n",
      "We're all gross, but Joyce is gross in a specific way that's not mine, and we're back to I don't care for him. [-0.8639]\n",
      "But it is all disgusting food, all bloody and fleshy, human flesh? [-0.8573]\n",
      "I never knew a book could make one so violently angry. [-0.8571]\n",
      "He made me very angry countless times with his tip-toeing and what seemed to be a general lack of courage to engage in confrontation (I should just say \"he lacked balls\", as it would definitely go well with the feel of the book and its indecent manners, as it was accused of being upon its release) - but when I came to think of it, even this anger Bloom provoked in me was a brilliant move from Joyce's part, especially once we think Leopold is a modern day Odysseus: he flees from fights as quickly as the Greek warrior ran into them, asked, solicited them. [-0.8446]\n"
     ]
    }
   ],
   "source": [
    "from nltk import sent_tokenize\n",
    "sent_scores = dict()\n",
    "\n",
    "file = open( 'Ulysses_reviews.txt' , encoding = 'utf-8')\n",
    "\n",
    "for review in file:\n",
    "    sentences = sent_tokenize(review)\n",
    "    for s in sentences:\n",
    "        scores = ana.polarity_scores(s)\n",
    "        sent_scores[s] = scores['compound']\n",
    "        \n",
    "nr_sentences = 10\n",
    "\n",
    "i = 0\n",
    "\n",
    "print('\\nPostive sentences\\n')\n",
    "\n",
    "for s in sortedByValue( sent_scores , ascending = False ):\n",
    "    print( f'{s} [{ sent_scores[s]}]' )\n",
    "    i+= 1\n",
    "    if i == nr_sentences:\n",
    "        break\n",
    "        \n",
    "print('\\nNegative sentences\\n')\n",
    "i = 0\n",
    "        \n",
    "for s in sortedByValue( sent_scores , ascending = True):\n",
    "    print( f'{s} [{ sent_scores[s]}]' )\n",
    "    i+= 1\n",
    "    if i == nr_sentences:\n",
    "        break"
   ]
  },
  {
   "cell_type": "markdown",
   "metadata": {},
   "source": [
    "## Exercise 7.3"
   ]
  },
  {
   "cell_type": "markdown",
   "metadata": {},
   "source": [
    "Does *Heart of Darkness* express more positivity than *Pride and Prejudice*? Try to answer this question by following the steps below:\n",
    "    \n",
    "1. Read in the full text of *Heart of Darkness*\n",
    "2. Create an empty list, named for *all_scores* for instance, to capture all the scores. \n",
    "2. Divide the novel into its separate sentences.\n",
    "3. For each sentence, find the positive sentiment score. \n",
    "4. Add this score to the list *all_scores*.\n",
    "5. Once you have processed all the sentences, divide the sum of all the scores by by the total number of sentences. \n",
    "6. Follow steps 1-4 for the reviews *Pride and Prejudice*, and compare the two percentages you have calculated.\n",
    "\n",
    "The goodReads reviews of *Pride and Prejudice* can be downloaded using the code below."
   ]
  },
  {
   "cell_type": "code",
   "execution_count": 18,
   "metadata": {},
   "outputs": [
    {
     "name": "stdout",
     "output_type": "stream",
     "text": [
      "Average sentiment score for \"Heart of Darkness\":\n",
      "0.105\n",
      "Average sentiment score for \"Pride and Prejudice\":\n",
      "0.127\n"
     ]
    }
   ],
   "source": [
    "from nltk import sent_tokenize\n",
    "from os.path import join\n",
    "\n",
    "def average_score(file):\n",
    "    all_scores = []\n",
    "    file = open( file , encoding = 'utf-8' )\n",
    "    full_text = file.read()\n",
    "    sentences = sent_tokenize( full_text )\n",
    "    for s in sentences:\n",
    "        scores = ana.polarity_scores(s)\n",
    "        all_scores.append( scores[\"pos\"] )\n",
    "    return sum(all_scores) / len(all_scores)\n",
    "        \n",
    "\n",
    "path = join( 'Corpus' , 'ARoomWithAView.txt' )\n",
    "print( 'Average sentiment score for \"Heart of Darkness\":' )\n",
    "print( f'{ round( average_score(path),3) }' )\n",
    "\n",
    "path = join( 'Corpus' , 'PrideAndPrejudice.txt' )\n",
    "print( 'Average sentiment score for \"Pride and Prejudice\":' )\n",
    "print( f'{ round( average_score(path),3) }' )\n",
    "\n"
   ]
  },
  {
   "cell_type": "code",
   "execution_count": null,
   "metadata": {},
   "outputs": [],
   "source": []
  }
 ],
 "metadata": {
  "kernelspec": {
   "display_name": "Python 3 (ipykernel)",
   "language": "python",
   "name": "python3"
  },
  "language_info": {
   "codemirror_mode": {
    "name": "ipython",
    "version": 3
   },
   "file_extension": ".py",
   "mimetype": "text/x-python",
   "name": "python",
   "nbconvert_exporter": "python",
   "pygments_lexer": "ipython3",
   "version": "3.7.9"
  }
 },
 "nbformat": 4,
 "nbformat_minor": 4
}
