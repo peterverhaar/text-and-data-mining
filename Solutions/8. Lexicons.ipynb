{
 "cells": [
  {
   "cell_type": "markdown",
   "metadata": {},
   "source": [
    "# Exercises\n",
    "\n",
    "# Exercise 8.1\n",
    "\n",
    "Using the lexicon 'Religion.txt', can you find all the terms in *Heart of Darkness* that are related to religion? "
   ]
  },
  {
   "cell_type": "code",
   "execution_count": 43,
   "metadata": {},
   "outputs": [
    {
     "name": "stdout",
     "output_type": "stream",
     "text": [
      "soul => 19\n",
      "devil => 16\n",
      "heaven => 7\n",
      "grave => 6\n",
      "faith => 5\n",
      "fate => 5\n",
      "cross => 4\n",
      "devotion => 4\n",
      "eternal => 3\n",
      "pray => 3\n",
      "supernatural => 3\n",
      "spirit => 3\n",
      "sin => 2\n",
      "entry => 2\n",
      "heavenly => 2\n",
      "service => 2\n",
      "salvation => 1\n",
      "solemn => 1\n",
      "magic => 1\n",
      "holy => 1\n",
      "ghost => 1\n",
      "prayer => 1\n",
      "angel => 1\n",
      "saint => 1\n",
      "miracle => 1\n",
      "divine => 1\n",
      "pilgrimage => 1\n",
      "sacred => 1\n"
     ]
    }
   ],
   "source": [
    "from os.path import join\n",
    "from tdmh import *\n",
    "\n",
    "lexicon = []\n",
    "\n",
    "with open( join('Corpus','HeartOfDarkness.txt') ) as fh:\n",
    "    full_text = fh.read()\n",
    "    \n",
    "with open( join('Lexicons','Religion.txt') ) as fh:\n",
    "    for term in fh:\n",
    "        lexicon.append( term.strip() )\n",
    "        \n",
    "freq = dict()\n",
    "    \n",
    "lemmatised = lemmatise(full_text)\n",
    "words = word_tokenize(lemmatised)\n",
    "for word in words:\n",
    "    #print(word)\n",
    "    if word in lexicon:\n",
    "        freq[word] = freq.get(word,0) + 1\n",
    "        \n",
    "for word in sortedByValue(freq , ascending = False):\n",
    "    print( f'{word} => {freq[word]}')"
   ]
  },
  {
   "cell_type": "markdown",
   "metadata": {},
   "source": [
    "## Exercise 8.2\n",
    "\n",
    "Using the CSV file 'lexicion.csv', try to create a scatter plot which visualises the counts for two lexicons simultaneously. On the X-axis, mention the counts for 'Religion', and on the Y-axis, mention the counts for 'Transportation'."
   ]
  },
  {
   "cell_type": "code",
   "execution_count": 64,
   "metadata": {},
   "outputs": [
    {
     "data": {
      "image/png": "[encoded data removed]",
      "text/plain": [
       "<Figure size 576x576 with 1 Axes>"
      ]
     },
     "metadata": {},
     "output_type": "display_data"
    }
   ],
   "source": [
    "%matplotlib inline\n",
    "\n",
    "import matplotlib.pyplot as plt\n",
    "import pandas as pd\n",
    "import matplotlib.patches as mpatches\n",
    "\n",
    "data = pd.read_csv( 'lexicon.csv' )\n",
    "\n",
    "\n",
    "x_axis = 'religion' \n",
    "y_axis = 'transportation' \n",
    "\n",
    "\n",
    "plt.style.use('seaborn-whitegrid')\n",
    "\n",
    "\n",
    "fig = plt.figure( figsize = ( 8,8 ))\n",
    "ax = plt.axes()\n",
    "\n",
    "\n",
    "ax.scatter( list(data[x_axis])  , list(data[y_axis]) , alpha=0.8,  s=95 , c = '#178a36' )\n",
    "\n",
    "for index, row in data.iterrows():\n",
    "    plt.text( row[x_axis] , row[y_axis] , row['title'] , fontsize=14)\n",
    "    \n",
    "\n",
    "ax.set_xlabel( x_axis.title() , fontsize = 16 )\n",
    "ax.set_ylabel( y_axis.title()  , fontsize = 16 )\n",
    "\n",
    "plt.show()"
   ]
  },
  {
   "cell_type": "markdown",
   "metadata": {},
   "source": [
    "## Exercise 8.3\n",
    "\n",
    "Make a lexicon using the words on the following list:\n",
    "    \n",
    "`\n",
    "colours = ['amber', 'apricot', 'aqua', 'auburn', 'azure', 'beige', 'black', 'blue', \n",
    "           'bronze', 'brown', 'brown', 'burgundy', 'charcoal', 'cherry', 'chocolate', 'cobalt', \n",
    "           'copper', 'cream', 'crimson', 'cyan', 'dandelion', 'denim', 'ecru', 'fuchsia', 'gold', \n",
    "           'green', 'green', 'grey', 'grey', 'indigo', 'ivory', 'jade', 'khaki', 'lavender', \n",
    "           'lemon', 'lilac', 'magenta', 'maroon', 'mauve', 'mint', 'mustard', 'olive', 'orange', \n",
    "           'pink', 'purple', 'quartz', 'red', 'ruby', 'sapphire', 'silver', 'turquoise', 'violet', \n",
    "           'white', 'yellow']\n",
    "`\n",
    "\n",
    "Which text mentions colours most frequently? "
   ]
  },
  {
   "cell_type": "code",
   "execution_count": 63,
   "metadata": {},
   "outputs": [
    {
     "name": "stdout",
     "output_type": "stream",
     "text": [
      "ThroughtheLookingGlass.txt: 42 mentions; 0.153% of all tokens\n",
      "HeartofDarkness.txt: 144 mentions; 0.393% of all tokens\n",
      "ARoomWithaView.txt: 83 mentions; 0.128% of all tokens\n",
      "TreasureIsland.txt: 138 mentions; 0.206% of all tokens\n",
      "ATaleofTwoCities.txt: 190 mentions; 0.142% of all tokens\n",
      "PrideandPrejudice.txt: 13 mentions; 0.011% of all tokens\n"
     ]
    }
   ],
   "source": [
    "colours = ['amber', 'apricot', 'aqua', 'auburn', 'azure', 'beige', 'black', 'blue', \n",
    "           'bronze', 'brown', 'brown', 'burgundy', 'charcoal', 'cherry', 'chocolate', 'cobalt', \n",
    "           'copper', 'cream', 'crimson', 'cyan', 'dandelion', 'denim', 'ecru', 'fuchsia', 'gold', \n",
    "           'green', 'green', 'grey', 'grey', 'indigo', 'ivory', 'jade', 'khaki', 'lavender', \n",
    "           'lemon', 'lilac', 'magenta', 'maroon', 'mauve', 'mint', 'mustard', 'olive', 'orange', \n",
    "           'pink', 'purple', 'quartz', 'red', 'ruby', 'sapphire', 'silver', 'turquoise', 'violet', \n",
    "           'white', 'yellow']\n",
    "\n",
    "dir = 'Corpus'\n",
    "for file in os.listdir( dir ):\n",
    "    if re.search( r'\\.txt$' , file ):\n",
    "\n",
    "        path = join( dir, file )\n",
    "\n",
    "        with open( path , encoding = 'utf-8' ) as fh:\n",
    "            full_text = fh.read()\n",
    "        \n",
    "        words = word_tokenize(full_text)\n",
    "        words = remove_punctuation(words)\n",
    "        tokens = len(words)\n",
    "        \n",
    "        countOccurrences = 0\n",
    "        for w in words:\n",
    "            if w in colours:\n",
    "                #print(w)\n",
    "                countOccurrences += 1\n",
    "            \n",
    "        print( f'{file}: {countOccurrences} mentions; { round( (countOccurrences/tokens)*100, 3) }% of all tokens' )"
   ]
  }
 ],
 "metadata": {
  "kernelspec": {
   "display_name": "Python 3 (ipykernel)",
   "language": "python",
   "name": "python3"
  },
  "language_info": {
   "codemirror_mode": {
    "name": "ipython",
    "version": 3
   },
   "file_extension": ".py",
   "mimetype": "text/x-python",
   "name": "python",
   "nbconvert_exporter": "python",
   "pygments_lexer": "ipython3",
   "version": "3.7.9"
  }
 },
 "nbformat": 4,
 "nbformat_minor": 2
}
