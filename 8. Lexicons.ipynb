{
 "cells": [
  {
   "cell_type": "markdown",
   "metadata": {},
   "source": [
    "# 8. Lexicons\n",
    "\n",
    "Lists of frequent words can help us to develop an rough understanding of the main concerns of the text. They don't necessary offer insights on the broader topics or the themes that are discussed within the text. If we want to investigate the semantics of the text at a somehwat deeper level, it can be useful to make use of word lists which map the words that occur in a text to broader pre-defined semantic categories. Such lists of words are often referred to a 'lexicons'. We can make a lexicon listing words related to 'religion', for instance. Next, by counting the numbers of times a text uses one of the words on the lexicon, we can form an impression of the importance of this particular theme within this text.  \n",
    "\n",
    "Examples of applications which have implemented this type of 'semantic tagging' include\n",
    "the [Harvard General Inquirer (HGI)](http://www.wjh.harvard.edu/~inquirer/homecat.htm), [the Linguistic Inquiry and Word Count (LIWC)\n",
    "tool](http://liwc.wpengine.com/)  and the [UCREL Semantic Analysis System (USAS)](http://ucrel.lancs.ac.uk/usas/). The programmers responsible for the *Harvard General Inquirer*, for example, have defined 182 semantic categories, and they have compiled long list of words pertaining to these categories.  \n",
    "\n",
    "To let you work with the possibilities of semantic tagging, a number of the lexicons that have been made available have been downloaded and merged. Next to the lexicons developed for the HGI and USAS, the word lists created for this course also include terms taken from lists compiled by [Bing Liu](https://www.cs.uic.edu/~liub/) and by the project team that worked on the [Multi-Perspective Question Answering (MPQA) tool](http://mpqa.cs.pitt.edu/). \n",
    "\n",
    "The merged semantic lexicons can be found here: \n",
    "https://github.com/peterverhaar/semanic-tagging/tree/main/Lexicons\n"
   ]
  },
  {
   "cell_type": "markdown",
   "metadata": {},
   "source": [
    "In the code below, the lexicon files that are available are all mentioned in the list named `lexicon_files`. The code downloads all of these lexicon files, and saved these in a dictionary named `lexicons`. "
   ]
  },
  {
   "cell_type": "code",
   "execution_count": null,
   "metadata": {},
   "outputs": [],
   "source": [
    "import re\n",
    "import requests\n",
    "import os\n",
    "\n",
    "baseUrl = 'https://raw.githubusercontent.com/peterverhaar/semanic-tagging/main/Lexicons/'\n",
    "lexicon_files = [  'Academic.txt' , 'Economics.txt' ,  'Legal.txt' , 'Military.txt' , 'Movement.txt' , 'Pain.txt' , 'Passive.txt' , 'Pleasure.txt' , 'Politics.txt' , 'Power.txt' , 'Religion.txt' , 'Space.txt' , 'Time.txt' , 'Transportation.txt' , 'Vice.txt' , 'Weather.txt' , 'workAndEmployment.txt' ]\n",
    "\n",
    "dir = 'Lexicons'\n",
    "if not os.path.isdir(dir):\n",
    "    os.mkdir(dir)\n",
    "\n",
    "\n",
    "for l in lexicon_files:\n",
    "    topic = l[ : l.rindex('.') ]\n",
    "    response = requests.get( baseUrl + l)\n",
    "    words = []\n",
    "    if response:\n",
    "        response.encoding = 'utf-8'\n",
    "        out = open( os.path.join( dir , l ) , 'w' , encoding = 'utf-8' )\n",
    "        out.write( response.text )\n",
    "        out.close()\n",
    "\n",
    "print('Lexicons have been downloaded!')"
   ]
  },
  {
   "cell_type": "markdown",
   "metadata": {},
   "source": [
    "Alternatively, you can also work with create your own lexicon files. A lexicon file is simple a text file listing all the terms that are relevant. You can create new files, and add these to the directory `Lexicon`. You can also edit existing lexicons, or remove those lexicons that are not relevant to you. \n",
    "\n",
    "The following code reads in all the lexicon files from `Lexicons` and saves all the words on these lists in a dictionary named `lexicons`."
   ]
  },
  {
   "cell_type": "code",
   "execution_count": null,
   "metadata": {},
   "outputs": [],
   "source": [
    "import os \n",
    "from os.path import join\n",
    "import re\n",
    "\n",
    "lexicons = dict()\n",
    "\n",
    "dir = 'Lexicons'\n",
    "\n",
    "for file in os.listdir(dir):\n",
    "\n",
    "    topic = file[ : file.rindex('.') ]\n",
    "    words = []\n",
    "    \n",
    "    with open( join(dir,file) , encoding = 'utf-8' ) as file_handler:   \n",
    "        for l in file_handler: \n",
    "            if re.search( r'\\w' , l ):\n",
    "                words.append(l.strip())\n",
    "\n",
    "    lexicons[topic] = words    \n"
   ]
  },
  {
   "cell_type": "markdown",
   "metadata": {},
   "source": [
    "You can use the code below to count the number of occurrences of the words in these various lexicons within the texts of your corpus. The code searches in lemmatised versions of all the corpus texts. The result (consisting of counts for all the texts in your corpus) is stored in a file named 'lexicon.csv'.\n",
    "\n",
    "If your texts are long, or if the corpus contains many texts, running the code make take quite a while. "
   ]
  },
  {
   "cell_type": "code",
   "execution_count": null,
   "metadata": {},
   "outputs": [],
   "source": [
    "import os\n",
    "from os.path import join\n",
    "from tdmh import *\n",
    "from nltk.stem import WordNetLemmatizer\n",
    "\n",
    "dir = 'Corpus'\n",
    "\n",
    "\n",
    "\n",
    "csv = open( 'lexicon.csv' , 'w' , encoding = 'utf-8' )\n",
    "\n",
    "## print header\n",
    "csv.write( 'title' )\n",
    "for l in lexicons:\n",
    "    csv.write( f',{l.lower().strip() }' )\n",
    "csv.write('\\n')\n",
    "\n",
    "dir = 'Corpus'\n",
    "for file in os.listdir( dir ):\n",
    "    if re.search( r'\\.txt$' , file ):\n",
    "        csv.write( remove_extension( file ) )\n",
    "        path = join( dir, file )\n",
    "        \n",
    "        print( '\\nLemmatising {} ...'.format( file ) )\n",
    "        with open( path , encoding = 'utf-8' ) as fh:\n",
    "            full_text = fh.read()\n",
    "        lemmatised = lemmatise(full_text)\n",
    "        \n",
    "        print( 'Performing semantic tagging for {} ...'.format( file ) )\n",
    "        \n",
    "        words = word_tokenize(lemmatised)\n",
    "        words = remove_punctuation(words)\n",
    "        freq = dict()\n",
    "        for w in words:\n",
    "            freq[w] = freq.get(w,0)+1\n",
    "        tokens = len(lemmatised)\n",
    "        \n",
    "        for l in lexicons:\n",
    "            print(f'{l} ...')    \n",
    "            \n",
    "            countOccurrences = 0\n",
    "            for word in l:\n",
    "                countOccurrences += freq.get(word,0)\n",
    "            \n",
    "            csv.write( ',{}'.format( countOccurrences / tokens ) )\n",
    "        csv.write('\\n')\n",
    "        \n",
    "csv.close()\n",
    "\n",
    "print(\"Done!\")\n",
    "\n"
   ]
  },
  {
   "cell_type": "markdown",
   "metadata": {},
   "source": [
    "In the cell below, the counts that have made for the terms from the various lexicons can be visualised as a bar chart. As the value of the variable named `y`, you need to type in the name of the lexicon, without the .txt extension. "
   ]
  },
  {
   "cell_type": "code",
   "execution_count": 73,
   "metadata": {},
   "outputs": [
    {
     "data": {
      "image/png": "[encoded data removed]",
      "text/plain": [
       "<Figure size 504x432 with 1 Axes>"
      ]
     },
     "metadata": {
      "needs_background": "light"
     },
     "output_type": "display_data"
    }
   ],
   "source": [
    "%matplotlib inline\n",
    "\n",
    "import matplotlib.pyplot as plt\n",
    "import pandas as pd\n",
    "\n",
    "df = pd.read_csv('lexicon.csv')\n",
    "\n",
    "fig = plt.figure( figsize=( 7 ,6 ) )\n",
    "ax = plt.axes()\n",
    "\n",
    "x = 'title'\n",
    "y = 'politics'\n",
    "\n",
    "\n",
    "bar_width = 0.45\n",
    "opacity = 0.8\n",
    "\n",
    "ax.bar( df[x] , df[y] , width = bar_width, alpha = opacity , color = '#23a145')\n",
    "\n",
    "plt.xticks(rotation= 75)\n",
    "\n",
    "ax.set_xlabel('Categories' , fontsize= 12)\n",
    "ax.set_ylabel('Mean values' , fontsize = 12 )\n",
    "ax.set_title( y.title() , fontsize=20 )\n",
    "\n",
    "\n",
    "plt.show()"
   ]
  },
  {
   "cell_type": "markdown",
   "metadata": {},
   "source": [
    "# Exercises\n",
    "\n",
    "# Exercise 8.1\n",
    "\n",
    "Using the lexicon 'Religion.txt', can you find all the terms in *Heart of Darkness* that are related to religion? "
   ]
  },
  {
   "cell_type": "code",
   "execution_count": null,
   "metadata": {},
   "outputs": [],
   "source": []
  },
  {
   "cell_type": "markdown",
   "metadata": {},
   "source": [
    "## Exercise 8.2\n",
    "\n",
    "Using the CSV file 'lexicion.csv', try to create a scatter plot which visualises the counts for two lexicons simultaneously. On the X-axis, mention the counts for 'Religion', and on the Y-axis, mention the counts for 'Transportation'."
   ]
  },
  {
   "cell_type": "code",
   "execution_count": null,
   "metadata": {},
   "outputs": [],
   "source": []
  },
  {
   "cell_type": "markdown",
   "metadata": {},
   "source": [
    "## Exercise 8.3\n",
    "\n",
    "Make a lexicon using the words on the following list:\n",
    "    \n",
    "`\n",
    "colours = ['amber', 'apricot', 'aqua', 'auburn', 'azure', 'beige', 'black', 'blue', \n",
    "           'bronze', 'brown', 'brown', 'burgundy', 'charcoal', 'cherry', 'chocolate', 'cobalt', \n",
    "           'copper', 'cream', 'crimson', 'cyan', 'dandelion', 'denim', 'ecru', 'fuchsia', 'gold', \n",
    "           'green', 'green', 'grey', 'grey', 'indigo', 'ivory', 'jade', 'khaki', 'lavender', \n",
    "           'lemon', 'lilac', 'magenta', 'maroon', 'mauve', 'mint', 'mustard', 'olive', 'orange', \n",
    "           'pink', 'purple', 'quartz', 'red', 'ruby', 'sapphire', 'silver', 'turquoise', 'violet', \n",
    "           'white', 'yellow']\n",
    "`\n",
    "\n",
    "Which text mentions colours most frequently? "
   ]
  },
  {
   "cell_type": "code",
   "execution_count": null,
   "metadata": {},
   "outputs": [],
   "source": []
  }
 ],
 "metadata": {
  "kernelspec": {
   "display_name": "Python 3 (ipykernel)",
   "language": "python",
   "name": "python3"
  },
  "language_info": {
   "codemirror_mode": {
    "name": "ipython",
    "version": 3
   },
   "file_extension": ".py",
   "mimetype": "text/x-python",
   "name": "python",
   "nbconvert_exporter": "python",
   "pygments_lexer": "ipython3",
   "version": "3.7.9"
  }
 },
 "nbformat": 4,
 "nbformat_minor": 2
}
