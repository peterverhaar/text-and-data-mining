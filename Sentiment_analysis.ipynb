{
 "cells": [
  {
   "cell_type": "markdown",
   "metadata": {},
   "source": [
    "# Sentiment analysis\n",
    "\n",
    "\n",
    "## Introduction\n",
    "\n",
    "Sentiment analysis is the process of identifying and characterising the emotions or the opinions that are expressed within machine-readable texts. Sentiment analysis applications commonly make use of lists of words that are indicative of specific sentiments. Such lists or lexicons usually specify whether the words refer to negative or to positive emotions. By calculating the frequencies of these affective words, and by examining the contexts in which these words are used, such tools generally aim to calculate specific sentiment scores. \n",
    "\n",
    "The most basic types of sentiment analysis approaches classify text fragments simply as either positive or negative. Valence-based approaches, by contrast, also consider the intensity of the emmotions that are expressed, and aim to calculate more nuanced sentiment scores. \n",
    "\n",
    "This notebook discusses [Vader](https://github.com/cjhutto/vaderSentiment), which is available both as a separate package and as part of Python's NLTK library. Vader stands for the Valence Aware Dictionary and sEntiment Reasoner. Vader makes use of [a list of words](https://github.com/cjhutto/vaderSentiment/blob/master/vaderSentiment/vader_lexicon.txt) whose affective connotations have been evaluated manually by human volunteers. The word 'great', for instance has been assigned a positive score of 3.1, while the word 'terrible' has been scored at -2.1. Vader used these numbers to evaluate the sentiments in text fragments. \n",
    "\n",
    "\n"
   ]
  },
  {
   "cell_type": "markdown",
   "metadata": {},
   "source": [
    "## Installing Vader\n",
    "\n",
    "To work with Vader, it obviously needs to be installed first. "
   ]
  },
  {
   "cell_type": "code",
   "execution_count": 1,
   "metadata": {},
   "outputs": [
    {
     "name": "stdout",
     "output_type": "stream",
     "text": [
      "Requirement already satisfied: vaderSentiment in /Users/peter/opt/anaconda3/lib/python3.8/site-packages (3.3.2)\n",
      "Requirement already satisfied: requests in /Users/peter/opt/anaconda3/lib/python3.8/site-packages (from vaderSentiment) (2.24.0)\n",
      "Requirement already satisfied: urllib3!=1.25.0,!=1.25.1,<1.26,>=1.21.1 in /Users/peter/opt/anaconda3/lib/python3.8/site-packages (from requests->vaderSentiment) (1.25.11)\n",
      "Requirement already satisfied: idna<3,>=2.5 in /Users/peter/opt/anaconda3/lib/python3.8/site-packages (from requests->vaderSentiment) (2.10)\n",
      "Requirement already satisfied: certifi>=2017.4.17 in /Users/peter/opt/anaconda3/lib/python3.8/site-packages (from requests->vaderSentiment) (2020.6.20)\n",
      "Requirement already satisfied: chardet<4,>=3.0.2 in /Users/peter/opt/anaconda3/lib/python3.8/site-packages (from requests->vaderSentiment) (3.0.4)\n"
     ]
    }
   ],
   "source": [
    "import sys\n",
    "!pip install vaderSentiment"
   ]
  },
  {
   "cell_type": "markdown",
   "metadata": {},
   "source": [
    "If, for some reason, you are unable to install the package, you can also try to download the vader lexicon using NLTK."
   ]
  },
  {
   "cell_type": "code",
   "execution_count": 2,
   "metadata": {},
   "outputs": [
    {
     "name": "stderr",
     "output_type": "stream",
     "text": [
      "[nltk_data] Downloading package vader_lexicon to\n",
      "[nltk_data]     /Users/peter/nltk_data...\n",
      "[nltk_data]   Package vader_lexicon is already up-to-date!\n"
     ]
    },
    {
     "data": {
      "text/plain": [
       "True"
      ]
     },
     "execution_count": 2,
     "metadata": {},
     "output_type": "execute_result"
    }
   ],
   "source": [
    "import nltk\n",
    "nltk.download('vader_lexicon', quiet=False)"
   ]
  },
  {
   "cell_type": "markdown",
   "metadata": {},
   "source": [
    "If you managed to install Vader successfully, you should be able to import the `SentimentIntensityAnalyser` object from the vaderSentiment library in your code. \n",
    "\n",
    "In the code below, this object is renamed into `ana`. This object will function as a sentiment analyser. "
   ]
  },
  {
   "cell_type": "code",
   "execution_count": 3,
   "metadata": {},
   "outputs": [],
   "source": [
    "from vaderSentiment.vaderSentiment import SentimentIntensityAnalyzer \n",
    "#from nltk.sentiment.vader import SentimentIntensityAnalyzer\n",
    "\n",
    "ana = SentimentIntensityAnalyzer()"
   ]
  },
  {
   "cell_type": "markdown",
   "metadata": {},
   "source": [
    "When you have downloader Vader via NLTK, you should place a hash before the first line and remove the hash in front of the second command that is given. \n"
   ]
  },
  {
   "cell_type": "markdown",
   "metadata": {},
   "source": [
    "## Sentiment ratings\n",
    "\n",
    "This object `SentimentIntensityAnalyser` object contains a method named `polarity_scores` which can calculate the sentiment scores. The method only demands a string as a parameter. \n",
    "\n",
    "The method returns a dictionary with four keys:\n",
    "\n",
    "* `neg` gives a score for the level of negativity\n",
    "* `neu` assesses the level of neutrality\n",
    "* `pos` assignes a score for the positivity\n",
    "* the `compound` score, finally, is an overall assessment of the sentiments that are expressed. It is the sum of the first three ratings, but rescaled on a range in between -1 and + 1. \n",
    "\n",
    "When you run the code below, you will see that first sentence is considered to be 44% neutral and 55% positive, resulting in a positive score of 0.8225. \n",
    "\n",
    "The second sentence is given a score of 0.494 for negativity and a score 0.506 on the neutrality scale. The score for positiviy is 0.0. On the whole, the sentence received a negative score of -0.5994.  "
   ]
  },
  {
   "cell_type": "code",
   "execution_count": 9,
   "metadata": {},
   "outputs": [
    {
     "name": "stdout",
     "output_type": "stream",
     "text": [
      "neg: 0.0\n",
      "neu: 0.441\n",
      "pos: 0.559\n",
      "compound: 0.8225\n",
      "\n",
      "\n",
      "neg: 0.494\n",
      "neu: 0.506\n",
      "pos: 0.0\n",
      "compound: -0.5994\n"
     ]
    }
   ],
   "source": [
    "scores = ana.polarity_scores(\"A thing of beauty is a joy forever\")\n",
    "\n",
    "for s in scores:\n",
    "    print( f'{s}: {scores[s]}'  )\n",
    "    \n",
    "print('\\n')\n",
    "    \n",
    "scores = ana.polarity_scores(\"April is the cruellest month\")\n",
    "\n",
    "for s in scores:\n",
    "    print( f'{s}: {scores[s]}'  )"
   ]
  },
  {
   "cell_type": "markdown",
   "metadata": {},
   "source": [
    "Note that Vader also takes into account emoticon codes such as ':)'.  Without the emoticon, the positivity score for the sentence blow is 0.23. With the added smiley code, the positivity score rises to 0.338. "
   ]
  },
  {
   "cell_type": "code",
   "execution_count": 5,
   "metadata": {},
   "outputs": [
    {
     "name": "stdout",
     "output_type": "stream",
     "text": [
      "Positive: 0.338\n",
      "Negative: 0.192\n",
      "Compound: 0.4767\n"
     ]
    }
   ],
   "source": [
    "scores = ana.polarity_scores(\"It was the best of times, it was the worst of times.  :)\")\n",
    "\n",
    "print( f'Positive: { scores[\"pos\"] }' )\n",
    "print( f'Negative: { scores[\"neg\"] }' )\n",
    "print( f'Compound: { scores[\"compound\"] }' )"
   ]
  },
  {
   "cell_type": "markdown",
   "metadata": {},
   "source": [
    "## Context \n",
    "\n",
    "Vader does not simply copy the scores from the lexicon. It also takes into account properties such as interpunction and capitalisation, and it can be sensitive to the broader contexts of the words in the lexicon. \n",
    "\n",
    "Capitalisation, for example, increases the intensity of an emotion. "
   ]
  },
  {
   "cell_type": "code",
   "execution_count": 13,
   "metadata": {},
   "outputs": [
    {
     "name": "stdout",
     "output_type": "stream",
     "text": [
      "Positive: 0.259\n",
      "Negative: 0.215\n",
      "\n",
      "\n",
      "Positive: 0.327\n",
      "Negative: 0.219\n"
     ]
    }
   ],
   "source": [
    "scores = ana.polarity_scores(\"It was the BEST of times, it was the worst of times.\")\n",
    "\n",
    "print( f'Positive: { scores[\"pos\"] }' )\n",
    "print( f'Negative: { scores[\"neg\"] }' )\n",
    "\n",
    "print('\\n')\n",
    "\n",
    "scores = ana.polarity_scores(\"It was the best of times, it was the WORST of times.\")\n",
    "\n",
    "print( f'Positive: { scores[\"pos\"] }' )\n",
    "print( f'Negative: { scores[\"neg\"] }' )\n"
   ]
  },
  {
   "cell_type": "markdown",
   "metadata": {},
   "source": [
    "Insenifiers such as 'very' or 'really' likewise raise the ratings for particular emotions. The same is the case for exclamation marks. Vader also knows that the word 'not' entails a negation and that the value of a positive word following 'not' should in fact be viewed as a negative word. "
   ]
  },
  {
   "cell_type": "code",
   "execution_count": 7,
   "metadata": {},
   "outputs": [
    {
     "name": "stdout",
     "output_type": "stream",
     "text": [
      "Overall score: 0.6369\n",
      "Overall score: 0.6989\n",
      "Overall score: 0.7592\n",
      "Overall score: -0.0274\n"
     ]
    }
   ],
   "source": [
    "scores = ana.polarity_scores(\"This novel is good.\")\n",
    "\n",
    "print( f'Overall score: { scores[\"compound\"] }' )\n",
    "\n",
    "scores = ana.polarity_scores(\"This novel is really good!\")\n",
    "\n",
    "print( f'Overall score: { scores[\"compound\"] }' )\n",
    "\n",
    "scores = ana.polarity_scores(\"This novel is extremely GOOD!\")\n",
    "\n",
    "print( f'Overall score: { scores[\"compound\"] }' )\n",
    "\n",
    "scores = ana.polarity_scores(\"This novel is not good.\")\n",
    "\n",
    "print( f'Overall score: { scores[\"compound\"] }' )"
   ]
  },
  {
   "cell_type": "markdown",
   "metadata": {},
   "source": [
    "## Using Vader on longer texts\n",
    "\n",
    "VADER's `polarity_scores()` methods gives good results for relatively short sentences. When applied to longer texts (e.g. the full text of a novel) however, the scores quickly become meaningless. \n",
    "\n",
    "To assess the sentiments exoressed in longer texts, we can firstly divide this text into its seperate sentences, using `nltk`. Next, we can alculate the average of the compound scores assigned to all of these sentences.  \n",
    "\n",
    "The code below works with a dictionary named `sent_scores`. It saves all the sentences that are fiuond in the text as the keys of the dictionary. The compound sentiment scores are saved as the values belonging to these sentences. \n",
    "\n",
    "Eventually, we can find the most negative and the most positive sentences using this `sent_scores` dictionary. We can also calculate the avage score for the full text, by dividing the sum of all the scores by the total number of sentences.   "
   ]
  },
  {
   "cell_type": "code",
   "execution_count": 23,
   "metadata": {},
   "outputs": [
    {
     "name": "stdout",
     "output_type": "stream",
     "text": [
      "Most negative sentences:\n",
      "Her face had a tragic and fierce aspect of wild sorrow and of dumb pain mingled with the fear of some struggling, half-shaped resolve. [-0.9468]\n",
      "And at last, in its curved and imperceptible fall, the sun sank low, and from glowing white changed to a dull red without rays and without heat, as if about to go out suddenly, stricken to death by the touch of that gloom brooding over a crowd of men. [-0.9382]\n",
      "He was lying on his back with closed eyes, and I withdrew quietly, but I heard him mutter, 'Live rightly, die, die...' I listened. [-0.9313]\n",
      "I wanted to push on; but the manager looked grave, and told me the navigation up there was so dangerous that it would be advisable, the sun being very low already, to wait where we were till next morning. [-0.9182]\n",
      "\"He was becoming confidential now, but I fancy my unresponsive attitude must have exasperated him at last, for he judged it necessary to inform me he feared neither God nor devil, let alone any mere man. [-0.917]\n",
      "\n",
      "Most positive sentences:\n",
      "His clothes had been made of some stuff that was brown holland probably, but it was covered with patches all over, with bright patches, blue, red, and yellow—patches on the back, patches on the front, patches on elbows, on knees; coloured binding around his jacket, scarlet edging at the bottom of his trousers; and the sunshine made him look extremely gay and wonderfully neat withal, because you could see how beautifully all this patching had been done. [0.9775]\n",
      "I looked at them with a swift quickening of interest—not because it occurred to me I might be eaten by them before very long, though I own to you that just then I perceived—in a new light, as it were—how unwholesome the pilgrims looked, and I hoped, yes, I positively hoped, that my aspect was not so—what shall I say?—so—unappetizing: a touch of fantastic vanity which fitted well with the dream-sensation that pervaded all my days at that time. [0.9423]\n",
      "\"'Yes, I know,' I said with something like despair in my heart, but bowing my head before the faith that was in her, before that great and saving illusion that shone with an unearthly glow in the darkness, in the triumphant darkness from which I could not have defended her—from which I could not even defend myself. [0.9382]\n",
      "The curious part was that he had apparently forgotten all about that valuable postscriptum, because, later on, when he in a sense came to himself, he repeatedly entreated me to take good care of 'my pamphlet' (he called it), as it was sure to have in the future a good influence upon his career. [0.93]\n",
      "They shouted, sang; their bodies streamed with perspiration; they had faces like grotesque masks—these chaps; but they had bone, muscle, a wild vitality, an intense energy of movement, that was as natural and true as the surf along their coast. [0.9294]\n",
      " 0.010648281573498987 \n"
     ]
    }
   ],
   "source": [
    "from nltk.tokenize import sent_tokenize\n",
    "from os.path import join\n",
    "import tdm\n",
    "\n",
    "from vaderSentiment.vaderSentiment import SentimentIntensityAnalyzer \n",
    "ana = SentimentIntensityAnalyzer()\n",
    "\n",
    "sent_scores = dict()\n",
    "\n",
    "dir = 'Corpus'\n",
    "text = 'HeartOfDarkness.txt'\n",
    "\n",
    "\n",
    "text = open( join( dir, text ) )\n",
    "\n",
    "for p in text:\n",
    "    sent = sent_tokenize(p)\n",
    "    for s in sent:\n",
    "        ratings = ana.polarity_scores(s)\n",
    "        sent_scores[s] = ratings['compound']\n",
    "\n",
    "\n",
    "        \n",
    "max = 5\n",
    "i = 0 \n",
    "\n",
    "print('Most negative sentences:')\n",
    "        \n",
    "for s in tdm.sortedByValue(sent_scores):\n",
    "    print( f'{s} [{sent_scores[s]}]')\n",
    "    i += 1\n",
    "    if i == max:\n",
    "        break\n",
    "                \n",
    "print('\\nMost positive sentences:')\n",
    "                \n",
    "        \n",
    "for s in reversed( tdm.sortedByValue(sent_scores) ):\n",
    "    print( f'{s} [{sent_scores[s]}]')\n",
    "    i += 1\n",
    "    if i % max == 0:\n",
    "        break\n",
    "        \n",
    "values = sent_scores.values()\n",
    "total = sum(values)        \n",
    "        \n",
    "print( f' { total  / len(sent_scores) } '  )\n"
   ]
  },
  {
   "cell_type": "markdown",
   "metadata": {},
   "source": [
    "Such aggregate score, representing the overall sentiment expressed in a text, can obviously be calculated for all the texts in your corpus. The code below opens all the files in the folder named `Corpus`, and applies the same code that was discussed above to each of these files. The average scores are assigned to a dictionary named `all_scores`. "
   ]
  },
  {
   "cell_type": "code",
   "execution_count": 17,
   "metadata": {},
   "outputs": [
    {
     "name": "stdout",
     "output_type": "stream",
     "text": [
      "SonsandLovers.txt 0.03560572658492042\n",
      "Ivanhoe.txt 0.11906237671786564\n",
      "TheHappyPrince.txt 0.10657085201793719\n",
      "ThroughtheLookingGlass.txt 0.06654704714640189\n",
      "HeartofDarkness.txt 0.010815002089427515\n",
      "MobyDick.txt 0.033175993868165554\n",
      "ARoomWithaView.txt 0.05569756690997595\n",
      "TreasureIsland.txt 0.04196688506688493\n",
      "ATaleofTwoCities.txt 0.04312929734021455\n",
      "PrideandPrejudice.txt 0.174901956673654\n",
      "VanityFair.txt 0.15614840997483295\n",
      "Done!\n"
     ]
    }
   ],
   "source": [
    "from nltk.tokenize import sent_tokenize\n",
    "from os.path import join\n",
    "import os\n",
    "import tdm\n",
    "import re\n",
    "\n",
    "from vaderSentiment.vaderSentiment import SentimentIntensityAnalyzer \n",
    "ana = SentimentIntensityAnalyzer()\n",
    "\n",
    "dir = 'Corpus'\n",
    "all_scores = dict()\n",
    "\n",
    "for file in os.listdir(dir):\n",
    "    if re.search( r'txt$' , file ):\n",
    "        sent_scores = dict()\n",
    "\n",
    "        with open( join( dir, file ) , encoding = 'utf-8') as file_handler:\n",
    "            full_text = file_handler.read()\n",
    "            sent = sent_tokenize(full_text)\n",
    "            for s in sent:\n",
    "                ratings = ana.polarity_scores(s)\n",
    "                sent_scores[s] = ratings['compound']\n",
    "                \n",
    "        values = sent_scores.values()\n",
    "        total = sum(values)        \n",
    "        average_score = total  / len(sent_scores) \n",
    "        print( f'{file} {average_score}' )\n",
    "        all_scores[ tdm.removeExtension(file) ] = average_score\n",
    "\n",
    "\n",
    "print('Done!')"
   ]
  },
  {
   "cell_type": "markdown",
   "metadata": {},
   "source": [
    "The scores that wer obtained in this way can be visualised in a bar plot. "
   ]
  },
  {
   "cell_type": "code",
   "execution_count": 18,
   "metadata": {},
   "outputs": [
    {
     "data": {
      "image/png": "[encoded data removed]",
      "text/plain": [
       "<Figure size 864x432 with 1 Axes>"
      ]
     },
     "metadata": {
      "needs_background": "light"
     },
     "output_type": "display_data"
    }
   ],
   "source": [
    "%matplotlib inline\n",
    "\n",
    "import matplotlib.pyplot as plt\n",
    "import pandas as pd\n",
    "\n",
    "\n",
    "x_axis = list( all_scores.keys() )\n",
    "y_axis = list( all_scores.values() )\n",
    "\n",
    "fig = plt.figure( figsize=( 12 ,6 ) )\n",
    "ax = plt.axes()\n",
    "\n",
    "\n",
    "bar_width = 0.6\n",
    "opacity = 0.8\n",
    "\n",
    "ax.bar( x_axis , y_axis , width = bar_width, alpha = opacity , color = '#e6b01c')\n",
    "\n",
    "plt.xticks(rotation= 90)\n",
    "\n",
    "ax.set_xlabel('Texts' , fontsize= 12)\n",
    "ax.set_ylabel('Sentiment scores' , fontsize = 12 )\n",
    "\n",
    "\n",
    "plt.show()\n",
    "#plt.savefig('barchart.jpg')"
   ]
  },
  {
   "cell_type": "markdown",
   "metadata": {},
   "source": [
    "Focusing on an individual text, it may also be interesting to examine how the sentiments develop as this text progresses. The notebook on 'Tokenisation' explained that you can create distribution graph indicating the frequencies of a given word within different consecutive segments of the text. A similar principle can applied using sentiment scores. \n",
    "\n",
    "The code below firstly divides a full text into segments. The number of segments is determined by the variable `nr_segments`. To ensure that each segment contains the same number of sentences, the total number of sentences is divided by the value assigned to `nr_segments`.  \n",
    "\n",
    "*Heart of Darkness*, for instance, contains 2430 sentences. If the number of segments to be created is set to 30, this means that each segment will contain (2430/30=) 81 sentences. \n",
    "\n",
    "The code then calculates the average sentiment scores for the sentences in these segments. The average scores are assigned to `all_scores`. "
   ]
  },
  {
   "cell_type": "code",
   "execution_count": 21,
   "metadata": {},
   "outputs": [
    {
     "name": "stdout",
     "output_type": "stream",
     "text": [
      "5852\n",
      "195\n"
     ]
    }
   ],
   "source": [
    "nr_segments = 30\n",
    "all_scores = dict()\n",
    "\n",
    "from nltk.tokenize import sent_tokenize\n",
    "from os.path import join\n",
    "import tdm\n",
    "\n",
    "from vaderSentiment.vaderSentiment import SentimentIntensityAnalyzer \n",
    "ana = SentimentIntensityAnalyzer()\n",
    "\n",
    "dir = 'Corpus'\n",
    "text = 'PrideAndPrejudice.txt'\n",
    "path = join( dir, text ) \n",
    "            \n",
    "with open( path , encoding = 'utf-8' ) as file_handler:\n",
    "    full_text = file_handler.read()\n",
    "        \n",
    "sent = sent_tokenize(full_text)\n",
    "print( len(sent) )\n",
    "segment_size = round( len(sent) / nr_segments )\n",
    "print( segment_size )\n",
    "\n",
    "total = 0 \n",
    "for i in range( 0,len(sent) ):\n",
    "    ratings = ana.polarity_scores(sent[i])\n",
    "    total += ratings['compound']\n",
    "    #print( ratings['compound'] , ' => ' , total )\n",
    "    if i % segment_size == 0:\n",
    "        all_scores[i] = total / segment_size\n",
    "        total = 0 \n",
    "    \n",
    "if total != 0:\n",
    "    all_scores[i] = total / segment_size\n",
    "    \n"
   ]
  },
  {
   "cell_type": "markdown",
   "metadata": {},
   "source": [
    "The values in this `all_scores` dictionary can be visualised using a line plot."
   ]
  },
  {
   "cell_type": "code",
   "execution_count": 22,
   "metadata": {},
   "outputs": [
    {
     "data": {
      "image/png": "[encoded data removed]",
      "text/plain": [
       "<Figure size 864x576 with 1 Axes>"
      ]
     },
     "metadata": {},
     "output_type": "display_data"
    }
   ],
   "source": [
    "import matplotlib.pyplot as plt\n",
    "import seaborn as sns\n",
    "\n",
    "plt.style.use('fivethirtyeight')\n",
    "\n",
    "fig = plt.figure( figsize = ( 12, 8))\n",
    "ax = sns.lineplot(x= all_scores.keys() , y= all_scores.values() , color  = '#AA6799' )"
   ]
  },
  {
   "cell_type": "markdown",
   "metadata": {},
   "source": [
    "## Bibliography\n",
    "\n",
    "C.J. Hutto Eric Gilbert, \"VADER: A Parsimonious Rule-based Model for\n",
    "Sentiment Analysis of Social Media Text\", in: *ICWSM 2014* <[https://www.aaai.org/ocs/index.php/ICWSM/ICWSM14/paper/view/8109](https://www.aaai.org/ocs/index.php/ICWSM/ICWSM14/paper/view/8109)>\n"
   ]
  }
 ],
 "metadata": {
  "kernelspec": {
   "display_name": "Python 3",
   "language": "python",
   "name": "python3"
  },
  "language_info": {
   "codemirror_mode": {
    "name": "ipython",
    "version": 3
   },
   "file_extension": ".py",
   "mimetype": "text/x-python",
   "name": "python",
   "nbconvert_exporter": "python",
   "pygments_lexer": "ipython3",
   "version": "3.8.5"
  }
 },
 "nbformat": 4,
 "nbformat_minor": 4
}
